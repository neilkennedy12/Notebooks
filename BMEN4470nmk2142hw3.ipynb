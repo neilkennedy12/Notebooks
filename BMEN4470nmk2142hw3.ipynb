{
  "nbformat": 4,
  "nbformat_minor": 0,
  "metadata": {
    "colab": {
      "name": "Copy of 2021-11-29_hw3.ipynb",
      "provenance": [],
      "collapsed_sections": [],
      "include_colab_link": true
    },
    "kernelspec": {
      "name": "python3",
      "display_name": "Python 3"
    },
    "language_info": {
      "name": "python"
    }
  },
  "cells": [
    {
      "cell_type": "markdown",
      "metadata": {
        "id": "view-in-github",
        "colab_type": "text"
      },
      "source": [
        "<a href=\"https://colab.research.google.com/github/neilkennedy12/Notebooks/blob/main/BMEN4470nmk2142hw3.ipynb\" target=\"_parent\"><img src=\"https://colab.research.google.com/assets/colab-badge.svg\" alt=\"Open In Colab\"/></a>"
      ]
    },
    {
      "cell_type": "code",
      "metadata": {
        "id": "CyU1jOTO0AcV",
        "colab": {
          "base_uri": "https://localhost:8080/"
        },
        "outputId": "438b3d3f-2130-4dec-ac33-d7585f6eb853"
      },
      "source": [
        "  #@title Mount Google Drive (You don't need to run this if you are running notebooks on your laptop)\n",
        "\n",
        "from google.colab import drive\n",
        "\n",
        "# The following command will prompt a URL for you to click and obtain the\n",
        "# authorization code\n",
        "\n",
        "drive.mount(\"/content/drive\")"
      ],
      "execution_count": null,
      "outputs": [
        {
          "output_type": "stream",
          "name": "stdout",
          "text": [
            "Mounted at /content/drive\n"
          ]
        }
      ]
    },
    {
      "cell_type": "markdown",
      "metadata": {
        "id": "yp14XsC43kEd"
      },
      "source": [
        "# Homework 3\n",
        "\n",
        "**Due by 11:59pm on Monday 2021-11-29. Please upload your notebook in `ipynb` format to courseworks.**"
      ]
    },
    {
      "cell_type": "code",
      "metadata": {
        "id": "ynIQlQ6ORwn3"
      },
      "source": [
        "# Set data file location\n",
        "# If you are running notebooks on your laptop, change this to the directory\n",
        "# where you put downloaded files\n",
        "\n",
        "from pathlib import Path\n",
        "\n",
        "DATA = Path(\"/content/drive/My Drive/2021 ECBM E4060/data/hw3\")"
      ],
      "execution_count": null,
      "outputs": []
    },
    {
      "cell_type": "markdown",
      "metadata": {
        "id": "A7jq70Te0R7S"
      },
      "source": [
        "## Problem 1: Synthetic Lethality for BRCA1/BRCA2 mutated cancer cell lines"
      ]
    },
    {
      "cell_type": "markdown",
      "metadata": {
        "id": "NLutEzDWSHJV"
      },
      "source": [
        "In the class we investigated the synthetic lethality between CTNNB1 inhibition and APC mutated cell lines. In this problem, we'll show the classic example of synthetic lethality between PARP inhibition and BRCA mutations.\n",
        "\n",
        "PARP, BRCA1 and BRCA2 are components of efficient DNA repair. In cancer cells with BRCA1 or BRCA2 mutations, additional PARP inhibition causes the catastrophic impact on the basic cell function hence drives efficacy on cancer cell killing. Normal cells, which have at least one functional copy of BRCA1 or BRCA2, are largely spared, which limits toxicity of the treatment.\n",
        "\n",
        "We'll demonstrate such synthetic lethality using Achilles CRISPR data. Before that, we'll first extract the BRCA-mutated celllines from the CCLE mutation data:\n",
        "\n",
        "[CCLE_mutations.csv](https://drive.google.com/file/d/1Lv7jVJhr8kHsK8lXQ3XAs5BYf0zfq2DD/view?usp=sharing)\n",
        "\n",
        "\n",
        "Load the mutation table, extract \"damaging\" mutations in gene `BRCA1` or in `BRCA2` using the same filter we used in the class, that is, `isDeleterious` or `Variant_annotation == \"damaging\"` or `isCOSMIChotspot`.\n",
        "\n",
        "\n"
      ]
    },
    {
      "cell_type": "code",
      "metadata": {
        "id": "LYuQxv-TQK19"
      },
      "source": [
        "#===========================================================================\n",
        "# Your code here\n",
        "# Extract mutations of interest in BRCA1 or BRCA2 from the cellline MAF file\n",
        "# using the criteria above\n",
        "#==========================================================================="
      ],
      "execution_count": null,
      "outputs": []
    },
    {
      "cell_type": "markdown",
      "metadata": {
        "id": "o7t8jM9nwAFS"
      },
      "source": [
        "Now also load the Achilles genetic screening result data:\n",
        "\n",
        "[CRISPR_gene_effect.csv](https://drive.google.com/file/d/1OvsqQAMis8BNJWmg4M_UIarE3_TPH9sj/view?usp=sharing)\n",
        "\n",
        "Take the intercept of the celllines that exist in both Achilles table and the MAF table.\n"
      ]
    },
    {
      "cell_type": "code",
      "metadata": {
        "id": "enz8c6EyQMXU"
      },
      "source": [
        "#==========================================================================\n",
        "# Your code here\n",
        "# Load the Achilles data (CRISPR_gene_effect.csv) and take an intersection\n",
        "# of celllines that exist in both datasets\n",
        "#=========================================================================="
      ],
      "execution_count": null,
      "outputs": []
    },
    {
      "cell_type": "markdown",
      "metadata": {
        "id": "JGsA7L33QYKY"
      },
      "source": [
        "### **Answer the following question**"
      ]
    },
    {
      "cell_type": "markdown",
      "metadata": {
        "id": "mOEFm7AAQbOa"
      },
      "source": [
        "\n",
        "#### 1.1. In the MAF file, how many celllines exist in both MAF and Achilles CRISPR table and contains damaging mutations (defined by the filter above) in `BRCA1` or `BRCA2`"
      ]
    },
    {
      "cell_type": "markdown",
      "metadata": {
        "id": "G26VdpfeQdFu"
      },
      "source": [
        "#### 1.2. Given the cellline info [sample_info.csv](https://drive.google.com/file/d/1T02xY0CyDQCOdZAbCNHRdWRx8fTWWIul/view?usp=sharing), what are the top 3  primary diseases these BRCA1/2-mutated celllines in 1.1. were derived from (look at the `primary_disease` column)?"
      ]
    },
    {
      "cell_type": "markdown",
      "metadata": {
        "id": "IfHmVxeI19rr"
      },
      "source": [
        "Now let's investigate whether PARP knockout is more likely to lead to cancer cell death in BRCA-mutated cell lines. There are two major genes encoding the PARP proteins: `PARP1` and `PARP2`. We will investigate them separately. Now, as we did in the class, do two boxplots: each boxplot has binary BRCA mutation status as X axis, and cell viability values in Achilles table on the Y axis. First plot uses scores when `PARP1` is knocked out. Second plot uses scores when `PARP2` is knowcked out. Perform Mann-Whitney U test comparing if the viability scores are significantly different between BRCA-mutated celllines and BRCA non-mutated celllines."
      ]
    },
    {
      "cell_type": "code",
      "metadata": {
        "id": "qda9As2CQhwa"
      },
      "source": [
        "#==========================================================================\n",
        "# Your code here\n",
        "# Do two boxplots showing viability score difference between BRCA-mutated \n",
        "# celllines vs BRCA non-mutated celllines. One plot uses PARP1 CRISPR scores,\n",
        "# another uses PARP2 scores. Perform Mann-Whitney U test to test for\n",
        "# statistical significance\n",
        "#=========================================================================="
      ],
      "execution_count": null,
      "outputs": []
    },
    {
      "cell_type": "markdown",
      "metadata": {
        "id": "FA5ZhfIV7GXn"
      },
      "source": [
        "### **Answer the following question**"
      ]
    },
    {
      "cell_type": "markdown",
      "metadata": {
        "id": "vlbkgzryQmsC"
      },
      "source": [
        "\n",
        "#### 1.3. Comment separately for PARP1 and PARP2 on you observation regarding the viability score difference between BRCA-mutated celllines vs BRCA non-mutated celllines. Which group has lower median? Is the different significant?"
      ]
    },
    {
      "cell_type": "markdown",
      "metadata": {
        "id": "Ma78l3KW_-GZ"
      },
      "source": [
        "## Problem 2: Drug screening for MDM2 inhibitor nutlin"
      ]
    },
    {
      "cell_type": "markdown",
      "metadata": {
        "id": "DYtKeS5rBHmF"
      },
      "source": [
        "In the lecture we investigate how erlotinib, an EGFR nihibitor, has selective efficacy targeting EGFR-mutated celllines. In this problem we'll explore another drug: the `MDM2` inhibitor `nutlin-3`.\n",
        "\n",
        "Follow what we did in class, load the drug response data from PRISM:\n",
        "\n",
        "[secondary-screen-dose-response-curve-parameters.csv](https://drive.google.com/file/d/1M887pSGn8bHQBWXxKXXd3qVzC9oI66n2/view?usp=sharing)\n",
        "\n",
        "And extract the part where `name==\"nutlin-3\"`. A reminder: you should filter out rows with `passed_str_profiling==False`"
      ]
    },
    {
      "cell_type": "code",
      "metadata": {
        "id": "e7gfO73nQTkn"
      },
      "source": [
        "#=============================================================================\n",
        "# Your code here\n",
        "# Load the drug screening data and extract the results with drug name nutlin-3\n",
        "#============================================================================="
      ],
      "execution_count": null,
      "outputs": []
    },
    {
      "cell_type": "markdown",
      "metadata": {
        "id": "Alfo5U3JQzKj"
      },
      "source": [
        "### **Answer the following question**"
      ]
    },
    {
      "cell_type": "markdown",
      "metadata": {
        "id": "axgx202zQwHC"
      },
      "source": [
        "#### 2.1. How many celllines have nutlin-3 screening results?"
      ]
    },
    {
      "cell_type": "markdown",
      "metadata": {
        "id": "yU45KLnZKNN-"
      },
      "source": [
        "Now, similar to what we did in the class, investigate if MDM2 mutated celllines have a smaller Area Under Curve (`auc`) values than non-mutated celllines by making a boxplot with Mann-Whitney U test. Use the same mutation filtering criteria as in Problem 1 and in the lecture."
      ]
    },
    {
      "cell_type": "code",
      "metadata": {
        "id": "IDRqKDYnQ1VT"
      },
      "source": [
        "#=============================================================================\n",
        "# Your code here\n",
        "# Mke a boxplot showing AUC difference between MDM2-mutated celllines vs\n",
        "# MDM2 non-mutated celllines. Perform Mann-Whitney U test to test for\n",
        "# statistical significance\n",
        "#============================================================================="
      ],
      "execution_count": null,
      "outputs": []
    },
    {
      "cell_type": "markdown",
      "metadata": {
        "id": "S_cJ-5BKQ9uU"
      },
      "source": [
        "### **Answer the following question**"
      ]
    },
    {
      "cell_type": "markdown",
      "metadata": {
        "id": "fItjfCFSQ5kE"
      },
      "source": [
        "#### 2.2. How many celllines in your boxplot have MDM2 mutations? Do you observe AUC difference between the two groups?"
      ]
    },
    {
      "cell_type": "markdown",
      "metadata": {
        "id": "Hc9Ji1tbL_uy"
      },
      "source": [
        "Now, instead of MDM2 mutation, comparing celllines with `TP53` mutation versus celllines without TP53 mutations. Perform the same analysis (boxplot + Mann-Whitney U test). "
      ]
    },
    {
      "cell_type": "code",
      "metadata": {
        "id": "Qis1qnceRANH"
      },
      "source": [
        "#=============================================================================\n",
        "# Your code here\n",
        "# Mke a boxplot showing AUC difference between TP53-mutated celllines vs\n",
        "# TP53 non-mutated celllines. Perform Mann-Whitney U test to test for\n",
        "# statistical significance\n",
        "#============================================================================="
      ],
      "execution_count": null,
      "outputs": []
    },
    {
      "cell_type": "markdown",
      "metadata": {
        "id": "PHRqcG4yRKny"
      },
      "source": [
        "### **Answer the following question**"
      ]
    },
    {
      "cell_type": "markdown",
      "metadata": {
        "id": "QF0Pw0hrRHgX"
      },
      "source": [
        "#### 2.3. You probably observe a significant difference. Which group has a smaller AUC (TP53 mutated celllines or TP53 non-mutated celllines)? Translate the observation into drug efficacy, which group of celllines does nutlin-3 have better efficacy in?"
      ]
    },
    {
      "cell_type": "markdown",
      "metadata": {
        "id": "o3xxdvI6RMzL"
      },
      "source": [
        "#### 2.4. Given the observation in 2.3., give a biological explanation on why TP53 mutation will have the observed efficacy difference in nutlin-3. [Here is a reference](https://academic.oup.com/jmcb/article/11/7/586/5532737) you might get some idea to answer this."
      ]
    }
  ]
}